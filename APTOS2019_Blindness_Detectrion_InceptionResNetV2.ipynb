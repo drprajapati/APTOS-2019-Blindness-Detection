{
  "nbformat": 4,
  "nbformat_minor": 0,
  "metadata": {
    "colab": {
      "name": "APTOS2019 Blindness Detectrion InceptionResNetV2.ipynb",
      "provenance": [],
      "collapsed_sections": []
    },
    "kernelspec": {
      "name": "python3",
      "display_name": "Python 3"
    },
    "accelerator": "GPU"
  },
  "cells": [
    {
      "cell_type": "code",
      "metadata": {
        "id": "SojiY_C9emN1",
        "colab_type": "code",
        "outputId": "4f04bf51-ef8b-461a-c170-67f6bb8c2be8",
        "colab": {
          "base_uri": "https://localhost:8080/",
          "height": 128
        }
      },
      "source": [
        "from google.colab import drive\n",
        "drive.mount('/content/drive')"
      ],
      "execution_count": 1,
      "outputs": [
        {
          "output_type": "stream",
          "text": [
            "Mounted at /content/drive\n"
          ],
          "name": "stdout"
        }
      ]
    },
    {
      "cell_type": "code",
      "metadata": {
        "id": "GoaeHiyvgSiF",
        "colab_type": "code",
        "colab": {}
      },
      "source": [
        "BASE_DIR = './drive/My Drive/Kaggle/APTOS/data/'\n",
        "TRAIN_IMAGE_DIR = './drive/My Drive/Kaggle/APTOS/data/train_images'\n",
        "TEST_IMAGE_DIR = './drive/My Drive/Kaggle/APTOS/data/test_images'\n",
        "train_csv = './drive/My Drive/Kaggle/APTOS/data/train.csv'\n",
        "IMAGE_SIZE = 224\n",
        "BATCH_SIZE = 16"
      ],
      "execution_count": 0,
      "outputs": []
    },
    {
      "cell_type": "code",
      "metadata": {
        "id": "BQUPpmWzgWHQ",
        "colab_type": "code",
        "colab": {}
      },
      "source": [
        "import pandas as pd\n",
        "import numpy as np\n",
        "import matplotlib.pyplot as plt"
      ],
      "execution_count": 0,
      "outputs": []
    },
    {
      "cell_type": "code",
      "metadata": {
        "id": "P958zYOJgYuh",
        "colab_type": "code",
        "outputId": "106719ba-ba7a-46fd-a963-f16df63d6dde",
        "colab": {
          "base_uri": "https://localhost:8080/",
          "height": 352
        }
      },
      "source": [
        "train_df = pd.read_csv(train_csv)\n",
        "train_df.head(10)"
      ],
      "execution_count": 4,
      "outputs": [
        {
          "output_type": "execute_result",
          "data": {
            "text/html": [
              "<div>\n",
              "<style scoped>\n",
              "    .dataframe tbody tr th:only-of-type {\n",
              "        vertical-align: middle;\n",
              "    }\n",
              "\n",
              "    .dataframe tbody tr th {\n",
              "        vertical-align: top;\n",
              "    }\n",
              "\n",
              "    .dataframe thead th {\n",
              "        text-align: right;\n",
              "    }\n",
              "</style>\n",
              "<table border=\"1\" class=\"dataframe\">\n",
              "  <thead>\n",
              "    <tr style=\"text-align: right;\">\n",
              "      <th></th>\n",
              "      <th>id_code</th>\n",
              "      <th>diagnosis</th>\n",
              "    </tr>\n",
              "  </thead>\n",
              "  <tbody>\n",
              "    <tr>\n",
              "      <th>0</th>\n",
              "      <td>000c1434d8d7</td>\n",
              "      <td>2</td>\n",
              "    </tr>\n",
              "    <tr>\n",
              "      <th>1</th>\n",
              "      <td>001639a390f0</td>\n",
              "      <td>4</td>\n",
              "    </tr>\n",
              "    <tr>\n",
              "      <th>2</th>\n",
              "      <td>0024cdab0c1e</td>\n",
              "      <td>1</td>\n",
              "    </tr>\n",
              "    <tr>\n",
              "      <th>3</th>\n",
              "      <td>002c21358ce6</td>\n",
              "      <td>0</td>\n",
              "    </tr>\n",
              "    <tr>\n",
              "      <th>4</th>\n",
              "      <td>005b95c28852</td>\n",
              "      <td>0</td>\n",
              "    </tr>\n",
              "    <tr>\n",
              "      <th>5</th>\n",
              "      <td>0083ee8054ee</td>\n",
              "      <td>4</td>\n",
              "    </tr>\n",
              "    <tr>\n",
              "      <th>6</th>\n",
              "      <td>0097f532ac9f</td>\n",
              "      <td>0</td>\n",
              "    </tr>\n",
              "    <tr>\n",
              "      <th>7</th>\n",
              "      <td>00a8624548a9</td>\n",
              "      <td>2</td>\n",
              "    </tr>\n",
              "    <tr>\n",
              "      <th>8</th>\n",
              "      <td>00b74780d31d</td>\n",
              "      <td>2</td>\n",
              "    </tr>\n",
              "    <tr>\n",
              "      <th>9</th>\n",
              "      <td>00cb6555d108</td>\n",
              "      <td>1</td>\n",
              "    </tr>\n",
              "  </tbody>\n",
              "</table>\n",
              "</div>"
            ],
            "text/plain": [
              "        id_code  diagnosis\n",
              "0  000c1434d8d7          2\n",
              "1  001639a390f0          4\n",
              "2  0024cdab0c1e          1\n",
              "3  002c21358ce6          0\n",
              "4  005b95c28852          0\n",
              "5  0083ee8054ee          4\n",
              "6  0097f532ac9f          0\n",
              "7  00a8624548a9          2\n",
              "8  00b74780d31d          2\n",
              "9  00cb6555d108          1"
            ]
          },
          "metadata": {
            "tags": []
          },
          "execution_count": 4
        }
      ]
    },
    {
      "cell_type": "code",
      "metadata": {
        "id": "OVxER7Q_gfIo",
        "colab_type": "code",
        "colab": {}
      },
      "source": [
        "train_df['diagnosis'] = train_df['diagnosis'].astype('str')\n",
        "train_df['id_code'] = train_df['id_code'].astype(str)+'.png'"
      ],
      "execution_count": 0,
      "outputs": []
    },
    {
      "cell_type": "code",
      "metadata": {
        "id": "IAdfI2Gxgtw-",
        "colab_type": "code",
        "outputId": "8a3c5820-65e7-4eb8-b1fe-b000b22ba5ba",
        "colab": {
          "base_uri": "https://localhost:8080/",
          "height": 236
        }
      },
      "source": [
        "from sklearn.preprocessing import OneHotEncoder\n",
        "onehot_encoder = OneHotEncoder(sparse=False)\n",
        "encoded_diagnosis = onehot_encoder.fit_transform(train_df[['diagnosis']])\n",
        "print(encoded_diagnosis)"
      ],
      "execution_count": 6,
      "outputs": [
        {
          "output_type": "stream",
          "text": [
            "[[0. 0. 1. 0. 0.]\n",
            " [0. 0. 0. 0. 1.]\n",
            " [0. 1. 0. 0. 0.]\n",
            " ...\n",
            " [0. 0. 1. 0. 0.]\n",
            " [1. 0. 0. 0. 0.]\n",
            " [0. 0. 1. 0. 0.]]\n"
          ],
          "name": "stdout"
        },
        {
          "output_type": "stream",
          "text": [
            "/usr/local/lib/python3.6/dist-packages/sklearn/preprocessing/_encoders.py:415: FutureWarning: The handling of integer data will change in version 0.22. Currently, the categories are determined based on the range [0, max(values)], while in the future they will be determined based on the unique values.\n",
            "If you want the future behaviour and silence this warning, you can specify \"categories='auto'\".\n",
            "In case you used a LabelEncoder before this OneHotEncoder to convert the categories to integers, then you can now use the OneHotEncoder directly.\n",
            "  warnings.warn(msg, FutureWarning)\n"
          ],
          "name": "stderr"
        }
      ]
    },
    {
      "cell_type": "code",
      "metadata": {
        "id": "YhXoESIPh5XH",
        "colab_type": "code",
        "outputId": "01e96804-bffb-45ea-a8bf-2c64eccf75a2",
        "colab": {
          "base_uri": "https://localhost:8080/",
          "height": 53
        }
      },
      "source": [
        "print(encoded_diagnosis.shape)\n",
        "print(encoded_diagnosis.astype)"
      ],
      "execution_count": 7,
      "outputs": [
        {
          "output_type": "stream",
          "text": [
            "(3662, 5)\n",
            "<built-in method astype of numpy.ndarray object at 0x7f526704f350>\n"
          ],
          "name": "stdout"
        }
      ]
    },
    {
      "cell_type": "code",
      "metadata": {
        "id": "LDQP4X9_iFXB",
        "colab_type": "code",
        "outputId": "894c2e96-f35f-4a5c-8e68-ff07276fa408",
        "colab": {
          "base_uri": "https://localhost:8080/",
          "height": 35
        }
      },
      "source": [
        "from keras.preprocessing.image import ImageDataGenerator\n",
        "datagen = ImageDataGenerator(\n",
        "    rescale=1./255,\n",
        "    horizontal_flip=True,\n",
        "    vertical_flip=True,\n",
        "    zoom_range=0.2,\n",
        "    validation_split=0.2\n",
        ")"
      ],
      "execution_count": 8,
      "outputs": [
        {
          "output_type": "stream",
          "text": [
            "Using TensorFlow backend.\n"
          ],
          "name": "stderr"
        }
      ]
    },
    {
      "cell_type": "code",
      "metadata": {
        "id": "Qr5qET2CiKVc",
        "colab_type": "code",
        "outputId": "42c58ee2-1eaf-461d-fa32-b1f4fd68cee8",
        "colab": {
          "base_uri": "https://localhost:8080/",
          "height": 53
        }
      },
      "source": [
        "train_gen = datagen.flow_from_dataframe(\n",
        "    dataframe = train_df,\n",
        "    class_mode = 'categorical',\n",
        "    x_col = 'id_code',\n",
        "    y_col = 'diagnosis',\n",
        "    target_size = (IMAGE_SIZE,IMAGE_SIZE),\n",
        "    subset = 'training',\n",
        "    directory = TRAIN_IMAGE_DIR,\n",
        "    batch_size = BATCH_SIZE,\n",
        "    shuffle = True\n",
        ")\n",
        "test_gen = datagen.flow_from_dataframe(\n",
        "    dataframe = train_df,\n",
        "    class_mode = 'categorical',\n",
        "    x_col = 'id_code',\n",
        "    y_col = 'diagnosis',\n",
        "    target_size = (IMAGE_SIZE,IMAGE_SIZE),\n",
        "    subset = 'validation',\n",
        "    directory = TRAIN_IMAGE_DIR,\n",
        "    batch_size = BATCH_SIZE,\n",
        "    shuffle = True\n",
        ")"
      ],
      "execution_count": 10,
      "outputs": [
        {
          "output_type": "stream",
          "text": [
            "Found 2930 validated image filenames belonging to 5 classes.\n",
            "Found 732 validated image filenames belonging to 5 classes.\n"
          ],
          "name": "stdout"
        }
      ]
    },
    {
      "cell_type": "code",
      "metadata": {
        "id": "QNtTVd8-iP5-",
        "colab_type": "code",
        "colab": {}
      },
      "source": [
        "from keras.models import Sequential\n",
        "from keras.layers import Dense\n",
        "from keras.layers import Dropout, GaussianNoise, GaussianDropout,GlobalAveragePooling2D\n",
        "from keras.layers import Flatten, BatchNormalization\n",
        "from keras.layers.convolutional import Conv2D, SeparableConv2D\n",
        "from keras.constraints import maxnorm\n",
        "from keras.layers.convolutional import MaxPooling2D\n",
        "from keras.utils import np_utils\n",
        "from keras import backend as K\n",
        "from keras import layers\n",
        "from keras import regularizers, optimizers\n",
        "from keras.callbacks import Callback, ModelCheckpoint\n"
      ],
      "execution_count": 0,
      "outputs": []
    },
    {
      "cell_type": "code",
      "metadata": {
        "id": "Hxbs9AyiehA3",
        "colab_type": "code",
        "outputId": "6bf6d8d9-fc39-4d83-9576-8c8fce337f2a",
        "colab": {
          "base_uri": "https://localhost:8080/",
          "height": 724
        }
      },
      "source": [
        "from keras.applications.inception_resnet_v2 import InceptionResNetV2 \n",
        "iresnet = InceptionResNetV2(include_top = False, weights='imagenet', input_shape=(224,224,3))\n",
        "model = Sequential()\n",
        "model.add(iresnet)\n",
        "# model.add(Conv2D(filters = 1024, kernel_size = (2,2),padding = 'same'))\n",
        "# model.add(BatchNormalization())\n",
        "model.add(layers.GlobalAveragePooling2D())\n",
        "model.add(layers.Dropout(0.5))\n",
        "model.add(layers.Dense(5, activation='sigmoid'))\n",
        "model.compile(loss='binary_crossentropy', optimizer=optimizers.adam(lr=0.0001, amsgrad=True), metrics=['accuracy'])"
      ],
      "execution_count": 12,
      "outputs": [
        {
          "output_type": "stream",
          "text": [
            "WARNING:tensorflow:From /usr/local/lib/python3.6/dist-packages/keras/backend/tensorflow_backend.py:66: The name tf.get_default_graph is deprecated. Please use tf.compat.v1.get_default_graph instead.\n",
            "\n",
            "WARNING:tensorflow:From /usr/local/lib/python3.6/dist-packages/keras/backend/tensorflow_backend.py:541: The name tf.placeholder is deprecated. Please use tf.compat.v1.placeholder instead.\n",
            "\n",
            "WARNING:tensorflow:From /usr/local/lib/python3.6/dist-packages/keras/backend/tensorflow_backend.py:4432: The name tf.random_uniform is deprecated. Please use tf.random.uniform instead.\n",
            "\n",
            "WARNING:tensorflow:From /usr/local/lib/python3.6/dist-packages/keras/backend/tensorflow_backend.py:190: The name tf.get_default_session is deprecated. Please use tf.compat.v1.get_default_session instead.\n",
            "\n",
            "WARNING:tensorflow:From /usr/local/lib/python3.6/dist-packages/keras/backend/tensorflow_backend.py:197: The name tf.ConfigProto is deprecated. Please use tf.compat.v1.ConfigProto instead.\n",
            "\n",
            "WARNING:tensorflow:From /usr/local/lib/python3.6/dist-packages/keras/backend/tensorflow_backend.py:203: The name tf.Session is deprecated. Please use tf.compat.v1.Session instead.\n",
            "\n",
            "WARNING:tensorflow:From /usr/local/lib/python3.6/dist-packages/keras/backend/tensorflow_backend.py:207: The name tf.global_variables is deprecated. Please use tf.compat.v1.global_variables instead.\n",
            "\n",
            "WARNING:tensorflow:From /usr/local/lib/python3.6/dist-packages/keras/backend/tensorflow_backend.py:216: The name tf.is_variable_initialized is deprecated. Please use tf.compat.v1.is_variable_initialized instead.\n",
            "\n",
            "WARNING:tensorflow:From /usr/local/lib/python3.6/dist-packages/keras/backend/tensorflow_backend.py:223: The name tf.variables_initializer is deprecated. Please use tf.compat.v1.variables_initializer instead.\n",
            "\n",
            "WARNING:tensorflow:From /usr/local/lib/python3.6/dist-packages/keras/backend/tensorflow_backend.py:2041: The name tf.nn.fused_batch_norm is deprecated. Please use tf.compat.v1.nn.fused_batch_norm instead.\n",
            "\n",
            "WARNING:tensorflow:From /usr/local/lib/python3.6/dist-packages/keras/backend/tensorflow_backend.py:148: The name tf.placeholder_with_default is deprecated. Please use tf.compat.v1.placeholder_with_default instead.\n",
            "\n",
            "WARNING:tensorflow:From /usr/local/lib/python3.6/dist-packages/keras/backend/tensorflow_backend.py:4267: The name tf.nn.max_pool is deprecated. Please use tf.nn.max_pool2d instead.\n",
            "\n",
            "WARNING:tensorflow:From /usr/local/lib/python3.6/dist-packages/keras/backend/tensorflow_backend.py:4271: The name tf.nn.avg_pool is deprecated. Please use tf.nn.avg_pool2d instead.\n",
            "\n",
            "Downloading data from https://github.com/fchollet/deep-learning-models/releases/download/v0.7/inception_resnet_v2_weights_tf_dim_ordering_tf_kernels_notop.h5\n",
            "219062272/219055592 [==============================] - 7s 0us/step\n",
            "WARNING:tensorflow:From /usr/local/lib/python3.6/dist-packages/keras/backend/tensorflow_backend.py:3733: calling dropout (from tensorflow.python.ops.nn_ops) with keep_prob is deprecated and will be removed in a future version.\n",
            "Instructions for updating:\n",
            "Please use `rate` instead of `keep_prob`. Rate should be set to `rate = 1 - keep_prob`.\n",
            "WARNING:tensorflow:From /usr/local/lib/python3.6/dist-packages/keras/optimizers.py:793: The name tf.train.Optimizer is deprecated. Please use tf.compat.v1.train.Optimizer instead.\n",
            "\n",
            "WARNING:tensorflow:From /usr/local/lib/python3.6/dist-packages/keras/backend/tensorflow_backend.py:3657: The name tf.log is deprecated. Please use tf.math.log instead.\n",
            "\n",
            "WARNING:tensorflow:From /usr/local/lib/python3.6/dist-packages/tensorflow_core/python/ops/nn_impl.py:183: where (from tensorflow.python.ops.array_ops) is deprecated and will be removed in a future version.\n",
            "Instructions for updating:\n",
            "Use tf.where in 2.0, which has the same broadcast rule as np.where\n"
          ],
          "name": "stdout"
        }
      ]
    },
    {
      "cell_type": "code",
      "metadata": {
        "id": "AoVJ8LXViTWF",
        "colab_type": "code",
        "outputId": "86596237-ae89-479a-820f-f93baef505c9",
        "colab": {
          "base_uri": "https://localhost:8080/",
          "height": 306
        }
      },
      "source": [
        "model.summary()"
      ],
      "execution_count": 13,
      "outputs": [
        {
          "output_type": "stream",
          "text": [
            "Model: \"sequential_1\"\n",
            "_________________________________________________________________\n",
            "Layer (type)                 Output Shape              Param #   \n",
            "=================================================================\n",
            "inception_resnet_v2 (Model)  (None, 5, 5, 1536)        54336736  \n",
            "_________________________________________________________________\n",
            "global_average_pooling2d_1 ( (None, 1536)              0         \n",
            "_________________________________________________________________\n",
            "dropout_1 (Dropout)          (None, 1536)              0         \n",
            "_________________________________________________________________\n",
            "dense_1 (Dense)              (None, 5)                 7685      \n",
            "=================================================================\n",
            "Total params: 54,344,421\n",
            "Trainable params: 54,283,877\n",
            "Non-trainable params: 60,544\n",
            "_________________________________________________________________\n"
          ],
          "name": "stdout"
        }
      ]
    },
    {
      "cell_type": "code",
      "metadata": {
        "id": "iHPdQqPTiT_b",
        "colab_type": "code",
        "outputId": "043988e0-2ea9-42a4-daaf-95e471aac270",
        "colab": {
          "base_uri": "https://localhost:8080/",
          "height": 1000
        }
      },
      "source": [
        "checkpoint = ModelCheckpoint(\n",
        "    'mobiletransfer.h5', \n",
        "    monitor='val_loss', \n",
        "    verbose=1, \n",
        "    save_best_only=True, \n",
        "    save_weights_only=False,\n",
        "    mode='auto'\n",
        ")\n",
        "\n",
        "history = model.fit_generator(generator=train_gen,              \n",
        "                                    steps_per_epoch=len(train_gen)//BATCH_SIZE,\n",
        "                                    validation_data=test_gen,                    \n",
        "                                    validation_steps=len(test_gen)//BATCH_SIZE,\n",
        "                                    epochs=30,\n",
        "                                    use_multiprocessing = True,\n",
        "                                    verbose=1)"
      ],
      "execution_count": 14,
      "outputs": [
        {
          "output_type": "stream",
          "text": [
            "WARNING:tensorflow:From /usr/local/lib/python3.6/dist-packages/keras/backend/tensorflow_backend.py:1033: The name tf.assign_add is deprecated. Please use tf.compat.v1.assign_add instead.\n",
            "\n",
            "WARNING:tensorflow:From /usr/local/lib/python3.6/dist-packages/keras/backend/tensorflow_backend.py:1020: The name tf.assign is deprecated. Please use tf.compat.v1.assign instead.\n",
            "\n",
            "Epoch 1/30\n",
            "11/11 [==============================] - 151s 14s/step - loss: 0.5907 - acc: 0.6909 - val_loss: 0.5151 - val_acc: 0.7875\n",
            "Epoch 2/30\n",
            "11/11 [==============================] - 133s 12s/step - loss: 0.4644 - acc: 0.8318 - val_loss: 0.3218 - val_acc: 0.8750\n",
            "Epoch 3/30\n",
            "11/11 [==============================] - 137s 12s/step - loss: 0.3667 - acc: 0.8580 - val_loss: 0.3007 - val_acc: 0.8938\n",
            "Epoch 4/30\n",
            "11/11 [==============================] - 131s 12s/step - loss: 0.2940 - acc: 0.8886 - val_loss: 0.2378 - val_acc: 0.9000\n",
            "Epoch 5/30\n",
            "11/11 [==============================] - 128s 12s/step - loss: 0.3045 - acc: 0.8818 - val_loss: 0.3481 - val_acc: 0.8375\n",
            "Epoch 6/30\n",
            "11/11 [==============================] - 129s 12s/step - loss: 0.2396 - acc: 0.8875 - val_loss: 0.2601 - val_acc: 0.8812\n",
            "Epoch 7/30\n",
            "11/11 [==============================] - 126s 11s/step - loss: 0.2531 - acc: 0.8977 - val_loss: 0.3264 - val_acc: 0.8625\n",
            "Epoch 8/30\n",
            "11/11 [==============================] - 127s 12s/step - loss: 0.2403 - acc: 0.9011 - val_loss: 0.2504 - val_acc: 0.8750\n",
            "Epoch 9/30\n",
            "11/11 [==============================] - 123s 11s/step - loss: 0.2490 - acc: 0.8866 - val_loss: 0.3802 - val_acc: 0.8687\n",
            "Epoch 10/30\n",
            "11/11 [==============================] - 125s 11s/step - loss: 0.2260 - acc: 0.8955 - val_loss: 0.4159 - val_acc: 0.8187\n",
            "Epoch 11/30\n",
            "11/11 [==============================] - 127s 12s/step - loss: 0.2198 - acc: 0.9125 - val_loss: 0.5605 - val_acc: 0.8375\n",
            "Epoch 12/30\n",
            "11/11 [==============================] - 134s 12s/step - loss: 0.2223 - acc: 0.9080 - val_loss: 0.3952 - val_acc: 0.8312\n",
            "Epoch 13/30\n",
            "11/11 [==============================] - 128s 12s/step - loss: 0.2441 - acc: 0.8920 - val_loss: 0.3176 - val_acc: 0.8750\n",
            "Epoch 14/30\n",
            "11/11 [==============================] - 127s 12s/step - loss: 0.2448 - acc: 0.8864 - val_loss: 0.2396 - val_acc: 0.8688\n",
            "Epoch 15/30\n",
            "11/11 [==============================] - 135s 12s/step - loss: 0.2098 - acc: 0.9045 - val_loss: 0.3374 - val_acc: 0.8500\n",
            "Epoch 16/30\n",
            "11/11 [==============================] - 124s 11s/step - loss: 0.2146 - acc: 0.9148 - val_loss: 0.1951 - val_acc: 0.9062\n",
            "Epoch 17/30\n",
            "11/11 [==============================] - 99s 9s/step - loss: 0.2199 - acc: 0.9102 - val_loss: 0.2266 - val_acc: 0.9000\n",
            "Epoch 18/30\n",
            "11/11 [==============================] - 29s 3s/step - loss: 0.2126 - acc: 0.9045 - val_loss: 0.2891 - val_acc: 0.8625\n",
            "Epoch 19/30\n",
            "11/11 [==============================] - 28s 3s/step - loss: 0.1868 - acc: 0.9239 - val_loss: 0.2641 - val_acc: 0.8812\n",
            "Epoch 20/30\n",
            "11/11 [==============================] - 27s 2s/step - loss: 0.2293 - acc: 0.9114 - val_loss: 0.1139 - val_acc: 0.9563\n",
            "Epoch 21/30\n",
            "11/11 [==============================] - 27s 2s/step - loss: 0.1879 - acc: 0.9182 - val_loss: 0.2746 - val_acc: 0.9313\n",
            "Epoch 22/30\n",
            "11/11 [==============================] - 25s 2s/step - loss: 0.2120 - acc: 0.9136 - val_loss: 0.1900 - val_acc: 0.9187\n",
            "Epoch 23/30\n",
            "11/11 [==============================] - 27s 2s/step - loss: 0.1873 - acc: 0.9284 - val_loss: 0.1689 - val_acc: 0.9071\n",
            "Epoch 24/30\n",
            "11/11 [==============================] - 41s 4s/step - loss: 0.1950 - acc: 0.9250 - val_loss: 0.2244 - val_acc: 0.8938\n",
            "Epoch 25/30\n",
            "11/11 [==============================] - 29s 3s/step - loss: 0.1820 - acc: 0.9205 - val_loss: 0.1829 - val_acc: 0.9125\n",
            "Epoch 26/30\n",
            "11/11 [==============================] - 31s 3s/step - loss: 0.1871 - acc: 0.9182 - val_loss: 0.2185 - val_acc: 0.9125\n",
            "Epoch 27/30\n",
            "11/11 [==============================] - 28s 3s/step - loss: 0.2037 - acc: 0.9057 - val_loss: 0.1570 - val_acc: 0.9250\n",
            "Epoch 28/30\n",
            "11/11 [==============================] - 29s 3s/step - loss: 0.1926 - acc: 0.9170 - val_loss: 0.2738 - val_acc: 0.8750\n",
            "Epoch 29/30\n",
            "11/11 [==============================] - 27s 2s/step - loss: 0.1923 - acc: 0.9193 - val_loss: 0.2078 - val_acc: 0.9187\n",
            "Epoch 30/30\n",
            "11/11 [==============================] - 30s 3s/step - loss: 0.1815 - acc: 0.9284 - val_loss: 0.3153 - val_acc: 0.9062\n"
          ],
          "name": "stdout"
        }
      ]
    },
    {
      "cell_type": "code",
      "metadata": {
        "id": "7jx3veE3Q-7B",
        "colab_type": "code",
        "outputId": "29f99156-0449-48c3-bccc-a9f064d7c679",
        "colab": {
          "base_uri": "https://localhost:8080/",
          "height": 35
        }
      },
      "source": [
        "y_test = model.predict_generator(\n",
        "    test_gen,\n",
        "    steps=len(test_gen),\n",
        "    verbose=1\n",
        ")"
      ],
      "execution_count": 15,
      "outputs": [
        {
          "output_type": "stream",
          "text": [
            "46/46 [==============================] - 122s 3s/step\n"
          ],
          "name": "stdout"
        }
      ]
    },
    {
      "cell_type": "code",
      "metadata": {
        "colab_type": "code",
        "id": "8ZlBZFG1f6Gb",
        "colab": {}
      },
      "source": [
        "# print(y_true.shape)\n",
        "# print(y_true)\n",
        "# print(y_test.shape)\n",
        "# print(y_test)"
      ],
      "execution_count": 0,
      "outputs": []
    },
    {
      "cell_type": "code",
      "metadata": {
        "colab_type": "code",
        "id": "zuTntIW5f5sn",
        "colab": {}
      },
      "source": [
        "# from sklearn.metrics import confusion_matrix \n",
        "# from sklearn.metrics import accuracy_score \n",
        "# from sklearn.metrics import classification_report \n",
        "# results = confusion_matrix(t_true, y_test) \n",
        "# print ('Confusion Matrix :')\n",
        "# print(results) \n",
        "# print ('Accuracy Score :',accuracy_score(y_true, y_test)) \n",
        "# print ('Report : ')\n",
        "# print (classification_report(, y_test)) "
      ],
      "execution_count": 0,
      "outputs": []
    },
    {
      "cell_type": "code",
      "metadata": {
        "id": "L18Cbm2i7_4R",
        "colab_type": "code",
        "colab": {
          "base_uri": "https://localhost:8080/",
          "height": 591
        },
        "outputId": "105e9cc5-d758-4425-94f3-b91804a44bc6"
      },
      "source": [
        "print(history.history.keys())\n",
        "# summarize history for accuracy\n",
        "plt.plot(history.history['acc'])\n",
        "plt.plot(history.history['val_acc'])\n",
        "plt.title('model accuracy')\n",
        "plt.ylabel('accuracy')\n",
        "plt.xlabel('epoch')\n",
        "plt.legend(['train', 'test'], loc='upper left')\n",
        "plt.show()\n",
        "# summarize history for loss\n",
        "plt.plot(history.history['loss'])\n",
        "plt.plot(history.history['val_loss'])\n",
        "plt.title('model loss')\n",
        "plt.ylabel('loss')\n",
        "plt.xlabel('epoch')\n",
        "plt.legend(['train', 'test'], loc='upper left')\n",
        "plt.show()"
      ],
      "execution_count": 19,
      "outputs": [
        {
          "output_type": "stream",
          "text": [
            "dict_keys(['val_loss', 'val_acc', 'loss', 'acc'])\n"
          ],
          "name": "stdout"
        },
        {
          "output_type": "display_data",
          "data": {
            "image/png": "[encoded data removed]",
            "text/plain": [
              "<Figure size 432x288 with 1 Axes>"
            ]
          },
          "metadata": {
            "tags": []
          }
        },
        {
          "output_type": "display_data",
          "data": {
            "image/png": "[encoded data removed]",
            "text/plain": [
              "<Figure size 432x288 with 1 Axes>"
            ]
          },
          "metadata": {
            "tags": []
          }
        }
      ]
    },
    {
      "cell_type": "code",
      "metadata": {
        "id": "9jStzMScfrCR",
        "colab_type": "code",
        "colab": {}
      },
      "source": [
        ""
      ],
      "execution_count": 0,
      "outputs": []
    }
  ]
}
